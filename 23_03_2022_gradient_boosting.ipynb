{
 "cells": [
  {
   "cell_type": "markdown",
   "id": "27440e99-35ec-42e9-98ac-234d14c351c7",
   "metadata": {},
   "source": [
    "## Import required modules"
   ]
  },
  {
   "cell_type": "code",
   "execution_count": 8,
   "id": "50624990-b013-4e16-9688-8dc9770729ec",
   "metadata": {},
   "outputs": [],
   "source": [
    "import pandas as pd\n",
    "import numpy as np\n",
    "from sklearn.utils import shuffle\n",
    "from sklearn.preprocessing import StandardScaler\n",
    "from sklearn.ensemble import GradientBoostingClassifier\n",
    "from sklearn.model_selection import GridSearchCV\n",
    "from sklearn.metrics import accuracy_score\n",
    "from sklearn.metrics import precision_score\n",
    "from sklearn.metrics import recall_score\n",
    "from sklearn.metrics import make_scorer\n",
    "from sklearn.metrics import classification_report, confusion_matrix, roc_curve, auc\n",
    "\n",
    "import matplotlib.pyplot as plt\n",
    "\n",
    "%matplotlib inline"
   ]
  },
  {
   "cell_type": "markdown",
   "id": "a730d17e-760d-48a7-ad2e-b03405e153b5",
   "metadata": {},
   "source": [
    "## Load and prepare the data"
   ]
  },
  {
   "cell_type": "code",
   "execution_count": 3,
   "id": "e7ac38f5-e634-461e-a07d-0cb246460e97",
   "metadata": {},
   "outputs": [
    {
     "data": {
      "text/plain": [
       "target\n",
       "0    949302\n",
       "1    165463\n",
       "dtype: int64"
      ]
     },
     "execution_count": 3,
     "metadata": {},
     "output_type": "execute_result"
    }
   ],
   "source": [
    "df = pd.read_csv('csv_mqtt/encoded_finalset.csv')\n",
    "df = shuffle(df,random_state=10)\n",
    "df.groupby(['target']).size()"
   ]
  },
  {
   "cell_type": "code",
   "execution_count": 5,
   "id": "83ec2b56-b2f8-4dc3-bfcd-018d8b3297ab",
   "metadata": {},
   "outputs": [
    {
     "data": {
      "text/plain": [
       "target\n",
       "0    94873\n",
       "1    16603\n",
       "dtype: int64"
      ]
     },
     "execution_count": 5,
     "metadata": {},
     "output_type": "execute_result"
    }
   ],
   "source": [
    "df_sample = df.sample(frac=0.10)\n",
    "df_sample.groupby(['target']).size()"
   ]
  },
  {
   "cell_type": "code",
   "execution_count": 6,
   "id": "9064f831-99c0-4b54-a54d-92f091ed8242",
   "metadata": {},
   "outputs": [
    {
     "data": {
      "text/plain": [
       "(111476, 58)"
      ]
     },
     "execution_count": 6,
     "metadata": {},
     "output_type": "execute_result"
    }
   ],
   "source": [
    "x_columns = df_sample.columns.drop('target')\n",
    "x = df_sample[x_columns].values\n",
    "y = df_sample.target\n",
    "x.shape"
   ]
  },
  {
   "cell_type": "code",
   "execution_count": 9,
   "id": "680700d4-ffd0-49ad-a9f3-eb7b9db50d3c",
   "metadata": {},
   "outputs": [
    {
     "name": "stdout",
     "output_type": "stream",
     "text": [
      "Ready to generate train and test datasets\n",
      "x_train, y_train, x_test, y_test(100328, 58)(100328,)(11148, 58)(11148,)\n"
     ]
    }
   ],
   "source": [
    "from sklearn.model_selection import train_test_split\n",
    "print(\"Ready to generate train and test datasets\")\n",
    "x_train, x_test, y_train, y_test = train_test_split(x, y, test_size=0.1,shuffle=True, random_state=7)\n",
    "print(\"x_train, y_train, x_test, y_test\" + str(x_train.shape) + \"\" +str(y_train.shape) + \"\" +str(x_test.shape) + \"\" +str(y_test.shape))"
   ]
  },
  {
   "cell_type": "markdown",
   "id": "ed91839c-aff9-4e96-8200-d448b17a00c8",
   "metadata": {},
   "source": [
    "## training the model with different training rate"
   ]
  },
  {
   "cell_type": "code",
   "execution_count": 11,
   "id": "bfcdae9c-09c0-4241-aa35-2a9dabf3723f",
   "metadata": {},
   "outputs": [
    {
     "name": "stdout",
     "output_type": "stream",
     "text": [
      "Learning rate:  0.05\n",
      "Accuracy score (training): 0.983\n",
      "Accuracy score (validation): 0.983\n",
      "Time (validation): 22.409\n",
      "\n",
      "Learning rate:  0.1\n",
      "Accuracy score (training): 0.983\n",
      "Accuracy score (validation): 0.984\n",
      "Time (validation): 22.364\n",
      "\n",
      "Learning rate:  0.25\n",
      "Accuracy score (training): 0.984\n",
      "Accuracy score (validation): 0.984\n",
      "Time (validation): 22.293\n",
      "\n",
      "Learning rate:  0.5\n",
      "Accuracy score (training): 0.984\n",
      "Accuracy score (validation): 0.984\n",
      "Time (validation): 22.260\n",
      "\n",
      "Learning rate:  0.75\n",
      "Accuracy score (training): 0.984\n",
      "Accuracy score (validation): 0.984\n",
      "Time (validation): 22.571\n",
      "\n",
      "Learning rate:  1\n",
      "Accuracy score (training): 0.984\n",
      "Accuracy score (validation): 0.984\n",
      "Time (validation): 22.450\n",
      "\n"
     ]
    }
   ],
   "source": [
    "import time\n",
    "learning_rates = [0.05, 0.1, 0.25, 0.5, 0.75, 1]\n",
    "for learning_rate in learning_rates:\n",
    "    start =  time.time()\n",
    "    gb = GradientBoostingClassifier(learning_rate = learning_rate)\n",
    "    gb.fit(x_train, y_train)\n",
    "    end =  time.time()\n",
    "    print(\"Learning rate: \", learning_rate)\n",
    "    print(\"Accuracy score (training): {0:.3f}\".format(gb.score(x_train, y_train)))\n",
    "    print(\"Accuracy score (validation): {0:.3f}\".format(gb.score(x_test, y_test)))\n",
    "    print(\"Time (validation): {0:.3f}\".format(end-start))\n",
    "    print()\n"
   ]
  },
  {
   "cell_type": "markdown",
   "id": "2738076c-53d1-40a6-aaee-7442539cbf41",
   "metadata": {},
   "source": [
    "## Determine important features"
   ]
  },
  {
   "cell_type": "code",
   "execution_count": 12,
   "id": "958daff7-81d4-4ccb-affc-d5f8c3645acb",
   "metadata": {},
   "outputs": [
    {
     "name": "stdout",
     "output_type": "stream",
     "text": [
      "[4.03244036e-01 4.46911505e-01 0.00000000e+00 1.93280690e-02\n",
      " 8.26775237e-07 0.00000000e+00 0.00000000e+00 0.00000000e+00\n",
      " 0.00000000e+00 0.00000000e+00 0.00000000e+00 0.00000000e+00\n",
      " 0.00000000e+00 0.00000000e+00 1.28461929e-04 9.49775638e-03\n",
      " 7.00721580e-04 3.47362372e-02 0.00000000e+00 2.76648122e-06\n",
      " 2.56695168e-06 8.26297027e-06 1.70510907e-05 0.00000000e+00\n",
      " 0.00000000e+00 0.00000000e+00 0.00000000e+00 0.00000000e+00\n",
      " 0.00000000e+00 8.71692268e-03 0.00000000e+00 0.00000000e+00\n",
      " 3.38663567e-05 0.00000000e+00 9.72480547e-09 1.05203138e-02\n",
      " 1.47575623e-06 0.00000000e+00 0.00000000e+00 5.30083597e-03\n",
      " 6.54046265e-12 3.71125259e-05 9.57450639e-06 0.00000000e+00\n",
      " 1.00780067e-02 0.00000000e+00 3.20464171e-07 2.86450371e-10\n",
      " 1.45113072e-08 6.78642796e-03 6.62779952e-04 2.35891025e-02\n",
      " 1.93830987e-02 3.01875936e-04 0.00000000e+00 0.00000000e+00\n",
      " 0.00000000e+00 0.00000000e+00]\n"
     ]
    }
   ],
   "source": [
    "print(gb.feature_importances_)"
   ]
  },
  {
   "cell_type": "code",
   "execution_count": 32,
   "id": "ea4ee240-6aed-4974-9f0f-ff8a5083b03e",
   "metadata": {},
   "outputs": [
    {
     "data": {
      "text/plain": [
       "<AxesSubplot:>"
      ]
     },
     "execution_count": 32,
     "metadata": {},
     "output_type": "execute_result"
    },
    {
     "data": {
      "image/png": "[encoded data removed]",
      "text/plain": [
       "<Figure size 432x288 with 1 Axes>"
      ]
     },
     "metadata": {
      "needs_background": "light"
     },
     "output_type": "display_data"
    }
   ],
   "source": [
    "# plot\n",
    "(pd.Series(gb.feature_importances_, index=df_sample.columns[:-1])\n",
    "   .nlargest(15)\n",
    "   .plot(kind='barh')) "
   ]
  },
  {
   "cell_type": "markdown",
   "id": "fc8f86c7-f292-4b37-bdb9-c5eb78848ff6",
   "metadata": {},
   "source": [
    "## Hyperparameters tuning"
   ]
  },
  {
   "cell_type": "markdown",
   "id": "1745442a-7b31-41ee-9158-9ca03e6b143a",
   "metadata": {},
   "source": [
    "### Tree specific hyperparameters\n",
    "max_depth,\n",
    "min_samples_split,\n",
    "min_samples_leaf,\n",
    "max_features,\n",
    "max_leaf_nodes\n",
    "\n",
    "### Other Parameters\n",
    "n_estimators (number of trees),\n",
    "learning_rate,\n",
    "subsample,"
   ]
  },
  {
   "cell_type": "code",
   "execution_count": 34,
   "id": "91c4ea85-4f05-4dca-9352-5a73d568478d",
   "metadata": {},
   "outputs": [
    {
     "ename": "AttributeError",
     "evalue": "'GridSearchCV' object has no attribute 'grid_scores_'",
     "output_type": "error",
     "traceback": [
      "\u001b[0;31m---------------------------------------------------------------------------\u001b[0m",
      "\u001b[0;31mAttributeError\u001b[0m                            Traceback (most recent call last)",
      "\u001b[0;32m<ipython-input-34-516f3cd1da9c>\u001b[0m in \u001b[0;36m<module>\u001b[0;34m\u001b[0m\n\u001b[1;32m      4\u001b[0m             param_grid = p_test3, scoring='accuracy',n_jobs=4, cv=5)\n\u001b[1;32m      5\u001b[0m \u001b[0mtuning\u001b[0m\u001b[0;34m.\u001b[0m\u001b[0mfit\u001b[0m\u001b[0;34m(\u001b[0m\u001b[0mx_train\u001b[0m\u001b[0;34m,\u001b[0m\u001b[0my_train\u001b[0m\u001b[0;34m)\u001b[0m\u001b[0;34m\u001b[0m\u001b[0;34m\u001b[0m\u001b[0m\n\u001b[0;32m----> 6\u001b[0;31m \u001b[0mtuning\u001b[0m\u001b[0;34m.\u001b[0m\u001b[0mgrid_scores_\u001b[0m\u001b[0;34m,\u001b[0m \u001b[0mtuning\u001b[0m\u001b[0;34m.\u001b[0m\u001b[0mbest_params_\u001b[0m\u001b[0;34m,\u001b[0m \u001b[0mtuning\u001b[0m\u001b[0;34m.\u001b[0m\u001b[0mbest_score_\u001b[0m\u001b[0;34m\u001b[0m\u001b[0;34m\u001b[0m\u001b[0m\n\u001b[0m",
      "\u001b[0;31mAttributeError\u001b[0m: 'GridSearchCV' object has no attribute 'grid_scores_'"
     ]
    }
   ],
   "source": [
    "p_test3 = {'learning_rate':[0.2,0.1,0.05,0.01], 'n_estimators':[100,250,500,750,1000,1500]}\n",
    "\n",
    "tuning = GridSearchCV(estimator =GradientBoostingClassifier(max_depth=4, min_samples_split=2, min_samples_leaf=1, subsample=1,max_features='sqrt', random_state=10), \n",
    "            param_grid = p_test3, scoring='accuracy',n_jobs=4, cv=5)\n",
    "tuning.fit(x_train,y_train)\n",
    "tuning.grid_scores_, tuning.best_params_, tuning.best_score_"
   ]
  },
  {
   "cell_type": "code",
   "execution_count": 36,
   "id": "6c3c280d-7ba7-4cae-abef-89c64de55aed",
   "metadata": {},
   "outputs": [
    {
     "data": {
      "text/plain": [
       "({'learning_rate': 0.05, 'n_estimators': 750}, 0.9835738757837984)"
      ]
     },
     "execution_count": 36,
     "metadata": {},
     "output_type": "execute_result"
    }
   ],
   "source": [
    "tuning.best_params_, tuning.best_score_"
   ]
  },
  {
   "cell_type": "code",
   "execution_count": 38,
   "id": "9c92ed65-1047-472c-9d31-9013d1d2ead4",
   "metadata": {},
   "outputs": [
    {
     "data": {
      "text/plain": [
       "({'max_depth': 4}, 0.9835738757837984)"
      ]
     },
     "execution_count": 38,
     "metadata": {},
     "output_type": "execute_result"
    }
   ],
   "source": [
    "p_test2 = {'max_depth':[2,3,4,5,6,7] }\n",
    "tuning = GridSearchCV(estimator =GradientBoostingClassifier(learning_rate=0.05,n_estimators=750, min_samples_split=2, min_samples_leaf=1, subsample=1,max_features='sqrt', random_state=10), \n",
    "            param_grid = p_test2, scoring='accuracy',n_jobs=4, cv=5)\n",
    "tuning.fit(x_train,y_train)\n",
    "tuning.best_params_, tuning.best_score_"
   ]
  },
  {
   "cell_type": "markdown",
   "id": "60c5427a-1fe7-4822-8264-f90e6c119f3c",
   "metadata": {},
   "source": [
    "## Testing on the full data set"
   ]
  },
  {
   "cell_type": "code",
   "execution_count": 39,
   "id": "6ecce7d1-af4b-413e-814e-e92d0e694418",
   "metadata": {},
   "outputs": [
    {
     "data": {
      "text/plain": [
       "(1114765, 58)"
      ]
     },
     "execution_count": 39,
     "metadata": {},
     "output_type": "execute_result"
    }
   ],
   "source": [
    "x_columns = df.columns.drop('target')\n",
    "x = df[x_columns].values\n",
    "y = df.target\n",
    "x.shape"
   ]
  },
  {
   "cell_type": "code",
   "execution_count": 40,
   "id": "cea53985-cd0e-4265-b59d-eeddb93c815d",
   "metadata": {},
   "outputs": [
    {
     "name": "stdout",
     "output_type": "stream",
     "text": [
      "x_train, y_train, x_test, y_test(1003288, 58)(1003288,)(111477, 58)(111477,)\n"
     ]
    }
   ],
   "source": [
    "x_train, x_test, y_train, y_test = train_test_split(x, y, test_size=0.1,shuffle=True, random_state=7)\n",
    "print(\"x_train, y_train, x_test, y_test\" + str(x_train.shape) + \"\" +str(y_train.shape) + \"\" +str(x_test.shape) + \"\" +str(y_test.shape))"
   ]
  },
  {
   "cell_type": "code",
   "execution_count": 49,
   "id": "d2819142-25ae-4bc7-ad95-d89cb6f81693",
   "metadata": {},
   "outputs": [
    {
     "name": "stdout",
     "output_type": "stream",
     "text": [
      "Learning rate:  1\n",
      "Accuracy score (training): 0.984\n",
      "Accuracy score (validation): 0.983\n",
      "Time (validation): 583.759\n",
      "\n"
     ]
    }
   ],
   "source": [
    "\n",
    "start =  time.time()\n",
    "gb = GradientBoostingClassifier(learning_rate=0.05,n_estimators=750, max_depth=4, min_samples_split=2, min_samples_leaf=1, subsample=1,max_features='sqrt', random_state=10)\n",
    "gb.fit(x_train, y_train)\n",
    "end =  time.time()\n",
    "print(\"Learning rate: \", learning_rate)\n",
    "print(\"Accuracy score (training): {0:.3f}\".format(gb.score(x_train, y_train)))\n",
    "print(\"Accuracy score (validation): {0:.3f}\".format(gb.score(x_test, y_test)))\n",
    "print(\"Time (validation): {0:.3f}\".format(end-start))\n",
    "print()\n"
   ]
  },
  {
   "cell_type": "code",
   "execution_count": 56,
   "id": "9eeb024d-237a-4b76-96b9-c02e5f31eb7c",
   "metadata": {},
   "outputs": [
    {
     "name": "stdout",
     "output_type": "stream",
     "text": [
      "Confusion matrix, without normalization\n",
      "[[94631   317]\n",
      " [ 1537 14992]]\n"
     ]
    },
    {
     "data": {
      "image/png": "[encoded data removed]",
      "text/plain": [
       "<Figure size 432x288 with 2 Axes>"
      ]
     },
     "metadata": {
      "needs_background": "light"
     },
     "output_type": "display_data"
    }
   ],
   "source": [
    "cm = confusion_matrix(y_true=y_test, y_pred=predictions)\n",
    "cm_plot_labels = ['normal','anomaly']\n",
    "plot_confusion_matrix(cm=cm, classes=cm_plot_labels, title='Confusion Matrix')"
   ]
  },
  {
   "cell_type": "code",
   "execution_count": 58,
   "id": "c26f2428-1811-4915-849d-82e673ee04d8",
   "metadata": {},
   "outputs": [
    {
     "name": "stdout",
     "output_type": "stream",
     "text": [
      "Confusion matrix, without normalization\n",
      "[[0.99666133 0.00333867]\n",
      " [0.09298808 0.90701192]]\n"
     ]
    },
    {
     "data": {
      "image/png": "[encoded data removed]",
      "text/plain": [
       "<Figure size 432x288 with 2 Axes>"
      ]
     },
     "metadata": {
      "needs_background": "light"
     },
     "output_type": "display_data"
    }
   ],
   "source": [
    "cm = confusion_matrix(y_true=y_test, y_pred=predictions, normalize = 'true')\n",
    "cm_plot_labels = ['normal','anomaly']\n",
    "plot_confusion_matrix(cm=cm, classes=cm_plot_labels, title='Confusion Matrix')"
   ]
  },
  {
   "cell_type": "code",
   "execution_count": null,
   "id": "e6edff67-8225-4d0b-8812-38d5f4ac854e",
   "metadata": {},
   "outputs": [],
   "source": []
  }
 ],
 "metadata": {
  "kernelspec": {
   "display_name": "Python 3",
   "language": "python",
   "name": "python3"
  },
  "language_info": {
   "codemirror_mode": {
    "name": "ipython",
    "version": 3
   },
   "file_extension": ".py",
   "mimetype": "text/x-python",
   "name": "python",
   "nbconvert_exporter": "python",
   "pygments_lexer": "ipython3",
   "version": "3.8.8"
  }
 },
 "nbformat": 4,
 "nbformat_minor": 5
}
